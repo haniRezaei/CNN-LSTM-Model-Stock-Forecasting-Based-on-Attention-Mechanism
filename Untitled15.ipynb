{
  "nbformat": 4,
  "nbformat_minor": 0,
  "metadata": {
    "colab": {
      "provenance": []
    },
    "kernelspec": {
      "name": "python3",
      "display_name": "Python 3"
    },
    "language_info": {
      "name": "python"
    }
  },
  "cells": [
    {
      "cell_type": "code",
      "execution_count": 18,
      "metadata": {
        "id": "fz2wAybMifCw"
      },
      "outputs": [],
      "source": [
        "import numpy as np\n",
        "import pandas as pd\n",
        "import matplotlib.pyplot as plt\n",
        "import tensorflow as tf\n",
        "from tensorflow.keras.models import Model\n",
        "from tensorflow.keras.layers import LSTM, Dense, Dropout, Conv1D, MaxPooling1D, Input, Layer\n",
        "from tensorflow.keras.callbacks import EarlyStopping, ReduceLROnPlateau\n",
        "from tensorflow.keras import backend as K\n",
        "from sklearn.preprocessing import MinMaxScaler\n",
        "from sklearn.model_selection import train_test_split"
      ]
    },
    {
      "cell_type": "code",
      "source": [
        "from google.colab import files\n",
        "uploaded=files.upload()"
      ],
      "metadata": {
        "colab": {
          "base_uri": "https://localhost:8080/",
          "height": 73
        },
        "id": "6-gQ1Jp-Q7lm",
        "outputId": "ee93ea31-b123-4fca-d969-cf53e540b52d"
      },
      "execution_count": 2,
      "outputs": [
        {
          "output_type": "display_data",
          "data": {
            "text/plain": [
              "<IPython.core.display.HTML object>"
            ],
            "text/html": [
              "\n",
              "     <input type=\"file\" id=\"files-83b2f742-68f4-4f3a-baf8-07948bd1b2c8\" name=\"files[]\" multiple disabled\n",
              "        style=\"border:none\" />\n",
              "     <output id=\"result-83b2f742-68f4-4f3a-baf8-07948bd1b2c8\">\n",
              "      Upload widget is only available when the cell has been executed in the\n",
              "      current browser session. Please rerun this cell to enable.\n",
              "      </output>\n",
              "      <script>// Copyright 2017 Google LLC\n",
              "//\n",
              "// Licensed under the Apache License, Version 2.0 (the \"License\");\n",
              "// you may not use this file except in compliance with the License.\n",
              "// You may obtain a copy of the License at\n",
              "//\n",
              "//      http://www.apache.org/licenses/LICENSE-2.0\n",
              "//\n",
              "// Unless required by applicable law or agreed to in writing, software\n",
              "// distributed under the License is distributed on an \"AS IS\" BASIS,\n",
              "// WITHOUT WARRANTIES OR CONDITIONS OF ANY KIND, either express or implied.\n",
              "// See the License for the specific language governing permissions and\n",
              "// limitations under the License.\n",
              "\n",
              "/**\n",
              " * @fileoverview Helpers for google.colab Python module.\n",
              " */\n",
              "(function(scope) {\n",
              "function span(text, styleAttributes = {}) {\n",
              "  const element = document.createElement('span');\n",
              "  element.textContent = text;\n",
              "  for (const key of Object.keys(styleAttributes)) {\n",
              "    element.style[key] = styleAttributes[key];\n",
              "  }\n",
              "  return element;\n",
              "}\n",
              "\n",
              "// Max number of bytes which will be uploaded at a time.\n",
              "const MAX_PAYLOAD_SIZE = 100 * 1024;\n",
              "\n",
              "function _uploadFiles(inputId, outputId) {\n",
              "  const steps = uploadFilesStep(inputId, outputId);\n",
              "  const outputElement = document.getElementById(outputId);\n",
              "  // Cache steps on the outputElement to make it available for the next call\n",
              "  // to uploadFilesContinue from Python.\n",
              "  outputElement.steps = steps;\n",
              "\n",
              "  return _uploadFilesContinue(outputId);\n",
              "}\n",
              "\n",
              "// This is roughly an async generator (not supported in the browser yet),\n",
              "// where there are multiple asynchronous steps and the Python side is going\n",
              "// to poll for completion of each step.\n",
              "// This uses a Promise to block the python side on completion of each step,\n",
              "// then passes the result of the previous step as the input to the next step.\n",
              "function _uploadFilesContinue(outputId) {\n",
              "  const outputElement = document.getElementById(outputId);\n",
              "  const steps = outputElement.steps;\n",
              "\n",
              "  const next = steps.next(outputElement.lastPromiseValue);\n",
              "  return Promise.resolve(next.value.promise).then((value) => {\n",
              "    // Cache the last promise value to make it available to the next\n",
              "    // step of the generator.\n",
              "    outputElement.lastPromiseValue = value;\n",
              "    return next.value.response;\n",
              "  });\n",
              "}\n",
              "\n",
              "/**\n",
              " * Generator function which is called between each async step of the upload\n",
              " * process.\n",
              " * @param {string} inputId Element ID of the input file picker element.\n",
              " * @param {string} outputId Element ID of the output display.\n",
              " * @return {!Iterable<!Object>} Iterable of next steps.\n",
              " */\n",
              "function* uploadFilesStep(inputId, outputId) {\n",
              "  const inputElement = document.getElementById(inputId);\n",
              "  inputElement.disabled = false;\n",
              "\n",
              "  const outputElement = document.getElementById(outputId);\n",
              "  outputElement.innerHTML = '';\n",
              "\n",
              "  const pickedPromise = new Promise((resolve) => {\n",
              "    inputElement.addEventListener('change', (e) => {\n",
              "      resolve(e.target.files);\n",
              "    });\n",
              "  });\n",
              "\n",
              "  const cancel = document.createElement('button');\n",
              "  inputElement.parentElement.appendChild(cancel);\n",
              "  cancel.textContent = 'Cancel upload';\n",
              "  const cancelPromise = new Promise((resolve) => {\n",
              "    cancel.onclick = () => {\n",
              "      resolve(null);\n",
              "    };\n",
              "  });\n",
              "\n",
              "  // Wait for the user to pick the files.\n",
              "  const files = yield {\n",
              "    promise: Promise.race([pickedPromise, cancelPromise]),\n",
              "    response: {\n",
              "      action: 'starting',\n",
              "    }\n",
              "  };\n",
              "\n",
              "  cancel.remove();\n",
              "\n",
              "  // Disable the input element since further picks are not allowed.\n",
              "  inputElement.disabled = true;\n",
              "\n",
              "  if (!files) {\n",
              "    return {\n",
              "      response: {\n",
              "        action: 'complete',\n",
              "      }\n",
              "    };\n",
              "  }\n",
              "\n",
              "  for (const file of files) {\n",
              "    const li = document.createElement('li');\n",
              "    li.append(span(file.name, {fontWeight: 'bold'}));\n",
              "    li.append(span(\n",
              "        `(${file.type || 'n/a'}) - ${file.size} bytes, ` +\n",
              "        `last modified: ${\n",
              "            file.lastModifiedDate ? file.lastModifiedDate.toLocaleDateString() :\n",
              "                                    'n/a'} - `));\n",
              "    const percent = span('0% done');\n",
              "    li.appendChild(percent);\n",
              "\n",
              "    outputElement.appendChild(li);\n",
              "\n",
              "    const fileDataPromise = new Promise((resolve) => {\n",
              "      const reader = new FileReader();\n",
              "      reader.onload = (e) => {\n",
              "        resolve(e.target.result);\n",
              "      };\n",
              "      reader.readAsArrayBuffer(file);\n",
              "    });\n",
              "    // Wait for the data to be ready.\n",
              "    let fileData = yield {\n",
              "      promise: fileDataPromise,\n",
              "      response: {\n",
              "        action: 'continue',\n",
              "      }\n",
              "    };\n",
              "\n",
              "    // Use a chunked sending to avoid message size limits. See b/62115660.\n",
              "    let position = 0;\n",
              "    do {\n",
              "      const length = Math.min(fileData.byteLength - position, MAX_PAYLOAD_SIZE);\n",
              "      const chunk = new Uint8Array(fileData, position, length);\n",
              "      position += length;\n",
              "\n",
              "      const base64 = btoa(String.fromCharCode.apply(null, chunk));\n",
              "      yield {\n",
              "        response: {\n",
              "          action: 'append',\n",
              "          file: file.name,\n",
              "          data: base64,\n",
              "        },\n",
              "      };\n",
              "\n",
              "      let percentDone = fileData.byteLength === 0 ?\n",
              "          100 :\n",
              "          Math.round((position / fileData.byteLength) * 100);\n",
              "      percent.textContent = `${percentDone}% done`;\n",
              "\n",
              "    } while (position < fileData.byteLength);\n",
              "  }\n",
              "\n",
              "  // All done.\n",
              "  yield {\n",
              "    response: {\n",
              "      action: 'complete',\n",
              "    }\n",
              "  };\n",
              "}\n",
              "\n",
              "scope.google = scope.google || {};\n",
              "scope.google.colab = scope.google.colab || {};\n",
              "scope.google.colab._files = {\n",
              "  _uploadFiles,\n",
              "  _uploadFilesContinue,\n",
              "};\n",
              "})(self);\n",
              "</script> "
            ]
          },
          "metadata": {}
        },
        {
          "output_type": "stream",
          "name": "stdout",
          "text": [
            "Saving C.csv to C.csv\n"
          ]
        }
      ]
    },
    {
      "cell_type": "code",
      "source": [
        "df=pd.read_csv(\"C.csv\")"
      ],
      "metadata": {
        "id": "1xDjio2kRkBt"
      },
      "execution_count": 3,
      "outputs": []
    },
    {
      "cell_type": "code",
      "source": [
        "df.shape"
      ],
      "metadata": {
        "colab": {
          "base_uri": "https://localhost:8080/"
        },
        "id": "Nwk-PgPjYPwr",
        "outputId": "07f00fc7-a4e0-4432-9e33-9cc5cf91f621"
      },
      "execution_count": 4,
      "outputs": [
        {
          "output_type": "execute_result",
          "data": {
            "text/plain": [
              "(5031, 7)"
            ]
          },
          "metadata": {},
          "execution_count": 4
        }
      ]
    },
    {
      "cell_type": "code",
      "source": [
        "df.head()"
      ],
      "metadata": {
        "colab": {
          "base_uri": "https://localhost:8080/",
          "height": 206
        },
        "id": "GhWc-o2rRqgH",
        "outputId": "ad7ba1a7-dafa-4dc6-ee80-95b5bf442a17"
      },
      "execution_count": 5,
      "outputs": [
        {
          "output_type": "execute_result",
          "data": {
            "text/plain": [
              "         Date        Open        High         Low       Close   Adj Close  \\\n",
              "0  2004-07-19  438.000000  443.500000  437.000000  439.899994  280.372223   \n",
              "1  2004-07-20  438.799988  441.100006  436.299988  440.500000  280.754608   \n",
              "2  2004-07-21  443.500000  447.700012  439.000000  439.399994  280.053406   \n",
              "3  2004-07-22  439.399994  447.700012  437.000000  446.000000  284.260071   \n",
              "4  2004-07-23  446.000000  447.299988  438.000000  443.100006  282.411682   \n",
              "\n",
              "    Volume  \n",
              "0  1400520  \n",
              "1  1480980  \n",
              "2  1549160  \n",
              "3  1520470  \n",
              "4  1270910  "
            ],
            "text/html": [
              "\n",
              "  <div id=\"df-3c873324-ec38-48d7-aef2-24b138efd984\" class=\"colab-df-container\">\n",
              "    <div>\n",
              "<style scoped>\n",
              "    .dataframe tbody tr th:only-of-type {\n",
              "        vertical-align: middle;\n",
              "    }\n",
              "\n",
              "    .dataframe tbody tr th {\n",
              "        vertical-align: top;\n",
              "    }\n",
              "\n",
              "    .dataframe thead th {\n",
              "        text-align: right;\n",
              "    }\n",
              "</style>\n",
              "<table border=\"1\" class=\"dataframe\">\n",
              "  <thead>\n",
              "    <tr style=\"text-align: right;\">\n",
              "      <th></th>\n",
              "      <th>Date</th>\n",
              "      <th>Open</th>\n",
              "      <th>High</th>\n",
              "      <th>Low</th>\n",
              "      <th>Close</th>\n",
              "      <th>Adj Close</th>\n",
              "      <th>Volume</th>\n",
              "    </tr>\n",
              "  </thead>\n",
              "  <tbody>\n",
              "    <tr>\n",
              "      <th>0</th>\n",
              "      <td>2004-07-19</td>\n",
              "      <td>438.000000</td>\n",
              "      <td>443.500000</td>\n",
              "      <td>437.000000</td>\n",
              "      <td>439.899994</td>\n",
              "      <td>280.372223</td>\n",
              "      <td>1400520</td>\n",
              "    </tr>\n",
              "    <tr>\n",
              "      <th>1</th>\n",
              "      <td>2004-07-20</td>\n",
              "      <td>438.799988</td>\n",
              "      <td>441.100006</td>\n",
              "      <td>436.299988</td>\n",
              "      <td>440.500000</td>\n",
              "      <td>280.754608</td>\n",
              "      <td>1480980</td>\n",
              "    </tr>\n",
              "    <tr>\n",
              "      <th>2</th>\n",
              "      <td>2004-07-21</td>\n",
              "      <td>443.500000</td>\n",
              "      <td>447.700012</td>\n",
              "      <td>439.000000</td>\n",
              "      <td>439.399994</td>\n",
              "      <td>280.053406</td>\n",
              "      <td>1549160</td>\n",
              "    </tr>\n",
              "    <tr>\n",
              "      <th>3</th>\n",
              "      <td>2004-07-22</td>\n",
              "      <td>439.399994</td>\n",
              "      <td>447.700012</td>\n",
              "      <td>437.000000</td>\n",
              "      <td>446.000000</td>\n",
              "      <td>284.260071</td>\n",
              "      <td>1520470</td>\n",
              "    </tr>\n",
              "    <tr>\n",
              "      <th>4</th>\n",
              "      <td>2004-07-23</td>\n",
              "      <td>446.000000</td>\n",
              "      <td>447.299988</td>\n",
              "      <td>438.000000</td>\n",
              "      <td>443.100006</td>\n",
              "      <td>282.411682</td>\n",
              "      <td>1270910</td>\n",
              "    </tr>\n",
              "  </tbody>\n",
              "</table>\n",
              "</div>\n",
              "    <div class=\"colab-df-buttons\">\n",
              "\n",
              "  <div class=\"colab-df-container\">\n",
              "    <button class=\"colab-df-convert\" onclick=\"convertToInteractive('df-3c873324-ec38-48d7-aef2-24b138efd984')\"\n",
              "            title=\"Convert this dataframe to an interactive table.\"\n",
              "            style=\"display:none;\">\n",
              "\n",
              "  <svg xmlns=\"http://www.w3.org/2000/svg\" height=\"24px\" viewBox=\"0 -960 960 960\">\n",
              "    <path d=\"M120-120v-720h720v720H120Zm60-500h600v-160H180v160Zm220 220h160v-160H400v160Zm0 220h160v-160H400v160ZM180-400h160v-160H180v160Zm440 0h160v-160H620v160ZM180-180h160v-160H180v160Zm440 0h160v-160H620v160Z\"/>\n",
              "  </svg>\n",
              "    </button>\n",
              "\n",
              "  <style>\n",
              "    .colab-df-container {\n",
              "      display:flex;\n",
              "      gap: 12px;\n",
              "    }\n",
              "\n",
              "    .colab-df-convert {\n",
              "      background-color: #E8F0FE;\n",
              "      border: none;\n",
              "      border-radius: 50%;\n",
              "      cursor: pointer;\n",
              "      display: none;\n",
              "      fill: #1967D2;\n",
              "      height: 32px;\n",
              "      padding: 0 0 0 0;\n",
              "      width: 32px;\n",
              "    }\n",
              "\n",
              "    .colab-df-convert:hover {\n",
              "      background-color: #E2EBFA;\n",
              "      box-shadow: 0px 1px 2px rgba(60, 64, 67, 0.3), 0px 1px 3px 1px rgba(60, 64, 67, 0.15);\n",
              "      fill: #174EA6;\n",
              "    }\n",
              "\n",
              "    .colab-df-buttons div {\n",
              "      margin-bottom: 4px;\n",
              "    }\n",
              "\n",
              "    [theme=dark] .colab-df-convert {\n",
              "      background-color: #3B4455;\n",
              "      fill: #D2E3FC;\n",
              "    }\n",
              "\n",
              "    [theme=dark] .colab-df-convert:hover {\n",
              "      background-color: #434B5C;\n",
              "      box-shadow: 0px 1px 3px 1px rgba(0, 0, 0, 0.15);\n",
              "      filter: drop-shadow(0px 1px 2px rgba(0, 0, 0, 0.3));\n",
              "      fill: #FFFFFF;\n",
              "    }\n",
              "  </style>\n",
              "\n",
              "    <script>\n",
              "      const buttonEl =\n",
              "        document.querySelector('#df-3c873324-ec38-48d7-aef2-24b138efd984 button.colab-df-convert');\n",
              "      buttonEl.style.display =\n",
              "        google.colab.kernel.accessAllowed ? 'block' : 'none';\n",
              "\n",
              "      async function convertToInteractive(key) {\n",
              "        const element = document.querySelector('#df-3c873324-ec38-48d7-aef2-24b138efd984');\n",
              "        const dataTable =\n",
              "          await google.colab.kernel.invokeFunction('convertToInteractive',\n",
              "                                                    [key], {});\n",
              "        if (!dataTable) return;\n",
              "\n",
              "        const docLinkHtml = 'Like what you see? Visit the ' +\n",
              "          '<a target=\"_blank\" href=https://colab.research.google.com/notebooks/data_table.ipynb>data table notebook</a>'\n",
              "          + ' to learn more about interactive tables.';\n",
              "        element.innerHTML = '';\n",
              "        dataTable['output_type'] = 'display_data';\n",
              "        await google.colab.output.renderOutput(dataTable, element);\n",
              "        const docLink = document.createElement('div');\n",
              "        docLink.innerHTML = docLinkHtml;\n",
              "        element.appendChild(docLink);\n",
              "      }\n",
              "    </script>\n",
              "  </div>\n",
              "\n",
              "\n",
              "    <div id=\"df-002466d9-8ebb-40bd-8c56-e2ad8c1cb854\">\n",
              "      <button class=\"colab-df-quickchart\" onclick=\"quickchart('df-002466d9-8ebb-40bd-8c56-e2ad8c1cb854')\"\n",
              "                title=\"Suggest charts\"\n",
              "                style=\"display:none;\">\n",
              "\n",
              "<svg xmlns=\"http://www.w3.org/2000/svg\" height=\"24px\"viewBox=\"0 0 24 24\"\n",
              "     width=\"24px\">\n",
              "    <g>\n",
              "        <path d=\"M19 3H5c-1.1 0-2 .9-2 2v14c0 1.1.9 2 2 2h14c1.1 0 2-.9 2-2V5c0-1.1-.9-2-2-2zM9 17H7v-7h2v7zm4 0h-2V7h2v10zm4 0h-2v-4h2v4z\"/>\n",
              "    </g>\n",
              "</svg>\n",
              "      </button>\n",
              "\n",
              "<style>\n",
              "  .colab-df-quickchart {\n",
              "      --bg-color: #E8F0FE;\n",
              "      --fill-color: #1967D2;\n",
              "      --hover-bg-color: #E2EBFA;\n",
              "      --hover-fill-color: #174EA6;\n",
              "      --disabled-fill-color: #AAA;\n",
              "      --disabled-bg-color: #DDD;\n",
              "  }\n",
              "\n",
              "  [theme=dark] .colab-df-quickchart {\n",
              "      --bg-color: #3B4455;\n",
              "      --fill-color: #D2E3FC;\n",
              "      --hover-bg-color: #434B5C;\n",
              "      --hover-fill-color: #FFFFFF;\n",
              "      --disabled-bg-color: #3B4455;\n",
              "      --disabled-fill-color: #666;\n",
              "  }\n",
              "\n",
              "  .colab-df-quickchart {\n",
              "    background-color: var(--bg-color);\n",
              "    border: none;\n",
              "    border-radius: 50%;\n",
              "    cursor: pointer;\n",
              "    display: none;\n",
              "    fill: var(--fill-color);\n",
              "    height: 32px;\n",
              "    padding: 0;\n",
              "    width: 32px;\n",
              "  }\n",
              "\n",
              "  .colab-df-quickchart:hover {\n",
              "    background-color: var(--hover-bg-color);\n",
              "    box-shadow: 0 1px 2px rgba(60, 64, 67, 0.3), 0 1px 3px 1px rgba(60, 64, 67, 0.15);\n",
              "    fill: var(--button-hover-fill-color);\n",
              "  }\n",
              "\n",
              "  .colab-df-quickchart-complete:disabled,\n",
              "  .colab-df-quickchart-complete:disabled:hover {\n",
              "    background-color: var(--disabled-bg-color);\n",
              "    fill: var(--disabled-fill-color);\n",
              "    box-shadow: none;\n",
              "  }\n",
              "\n",
              "  .colab-df-spinner {\n",
              "    border: 2px solid var(--fill-color);\n",
              "    border-color: transparent;\n",
              "    border-bottom-color: var(--fill-color);\n",
              "    animation:\n",
              "      spin 1s steps(1) infinite;\n",
              "  }\n",
              "\n",
              "  @keyframes spin {\n",
              "    0% {\n",
              "      border-color: transparent;\n",
              "      border-bottom-color: var(--fill-color);\n",
              "      border-left-color: var(--fill-color);\n",
              "    }\n",
              "    20% {\n",
              "      border-color: transparent;\n",
              "      border-left-color: var(--fill-color);\n",
              "      border-top-color: var(--fill-color);\n",
              "    }\n",
              "    30% {\n",
              "      border-color: transparent;\n",
              "      border-left-color: var(--fill-color);\n",
              "      border-top-color: var(--fill-color);\n",
              "      border-right-color: var(--fill-color);\n",
              "    }\n",
              "    40% {\n",
              "      border-color: transparent;\n",
              "      border-right-color: var(--fill-color);\n",
              "      border-top-color: var(--fill-color);\n",
              "    }\n",
              "    60% {\n",
              "      border-color: transparent;\n",
              "      border-right-color: var(--fill-color);\n",
              "    }\n",
              "    80% {\n",
              "      border-color: transparent;\n",
              "      border-right-color: var(--fill-color);\n",
              "      border-bottom-color: var(--fill-color);\n",
              "    }\n",
              "    90% {\n",
              "      border-color: transparent;\n",
              "      border-bottom-color: var(--fill-color);\n",
              "    }\n",
              "  }\n",
              "</style>\n",
              "\n",
              "      <script>\n",
              "        async function quickchart(key) {\n",
              "          const quickchartButtonEl =\n",
              "            document.querySelector('#' + key + ' button');\n",
              "          quickchartButtonEl.disabled = true;  // To prevent multiple clicks.\n",
              "          quickchartButtonEl.classList.add('colab-df-spinner');\n",
              "          try {\n",
              "            const charts = await google.colab.kernel.invokeFunction(\n",
              "                'suggestCharts', [key], {});\n",
              "          } catch (error) {\n",
              "            console.error('Error during call to suggestCharts:', error);\n",
              "          }\n",
              "          quickchartButtonEl.classList.remove('colab-df-spinner');\n",
              "          quickchartButtonEl.classList.add('colab-df-quickchart-complete');\n",
              "        }\n",
              "        (() => {\n",
              "          let quickchartButtonEl =\n",
              "            document.querySelector('#df-002466d9-8ebb-40bd-8c56-e2ad8c1cb854 button');\n",
              "          quickchartButtonEl.style.display =\n",
              "            google.colab.kernel.accessAllowed ? 'block' : 'none';\n",
              "        })();\n",
              "      </script>\n",
              "    </div>\n",
              "\n",
              "    </div>\n",
              "  </div>\n"
            ],
            "application/vnd.google.colaboratory.intrinsic+json": {
              "type": "dataframe",
              "variable_name": "df",
              "summary": "{\n  \"name\": \"df\",\n  \"rows\": 5031,\n  \"fields\": [\n    {\n      \"column\": \"Date\",\n      \"properties\": {\n        \"dtype\": \"object\",\n        \"num_unique_values\": 5031,\n        \"samples\": [\n          \"2019-03-21\",\n          \"2011-08-22\",\n          \"2018-02-21\"\n        ],\n        \"semantic_type\": \"\",\n        \"description\": \"\"\n      }\n    },\n    {\n      \"column\": \"Open\",\n      \"properties\": {\n        \"dtype\": \"number\",\n        \"std\": 161.9843892587955,\n        \"min\": 10.199999809265137,\n        \"max\": 566.0,\n        \"num_unique_values\": 3248,\n        \"samples\": [\n          50.09999847412109,\n          56.65999984741211,\n          43.7400016784668\n        ],\n        \"semantic_type\": \"\",\n        \"description\": \"\"\n      }\n    },\n    {\n      \"column\": \"High\",\n      \"properties\": {\n        \"dtype\": \"number\",\n        \"std\": 163.15271972527603,\n        \"min\": 10.699999809265137,\n        \"max\": 570.0,\n        \"num_unique_values\": 3244,\n        \"samples\": [\n          72.63999938964844,\n          41.68000030517578,\n          30.709999084472656\n        ],\n        \"semantic_type\": \"\",\n        \"description\": \"\"\n      }\n    },\n    {\n      \"column\": \"Low\",\n      \"properties\": {\n        \"dtype\": \"number\",\n        \"std\": 160.71272644791162,\n        \"min\": 9.699999809265137,\n        \"max\": 555.5,\n        \"num_unique_values\": 3256,\n        \"samples\": [\n          66.55000305175781,\n          478.7000122070313,\n          74.37999725341797\n        ],\n        \"semantic_type\": \"\",\n        \"description\": \"\"\n      }\n    },\n    {\n      \"column\": \"Close\",\n      \"properties\": {\n        \"dtype\": \"number\",\n        \"std\": 161.8771311318327,\n        \"min\": 10.199999809265137,\n        \"max\": 564.0999755859375,\n        \"num_unique_values\": 3298,\n        \"samples\": [\n          60.22999954223633,\n          37.16999816894531,\n          50.59999847412109\n        ],\n        \"semantic_type\": \"\",\n        \"description\": \"\"\n      }\n    },\n    {\n      \"column\": \"Adj Close\",\n      \"properties\": {\n        \"dtype\": \"number\",\n        \"std\": 108.64313525500421,\n        \"min\": 7.922885894775391,\n        \"max\": 396.1928405761719,\n        \"num_unique_values\": 4475,\n        \"samples\": [\n          36.13901138305664,\n          47.73868179321289,\n          40.77740097045898\n        ],\n        \"semantic_type\": \"\",\n        \"description\": \"\"\n      }\n    },\n    {\n      \"column\": \"Volume\",\n      \"properties\": {\n        \"dtype\": \"number\",\n        \"std\": 22018051,\n        \"min\": 532100,\n        \"max\": 377263850,\n        \"num_unique_values\": 5013,\n        \"samples\": [\n          17871400,\n          6408720,\n          15391100\n        ],\n        \"semantic_type\": \"\",\n        \"description\": \"\"\n      }\n    }\n  ]\n}"
            }
          },
          "metadata": {},
          "execution_count": 5
        }
      ]
    },
    {
      "cell_type": "code",
      "source": [
        "df.columns"
      ],
      "metadata": {
        "colab": {
          "base_uri": "https://localhost:8080/"
        },
        "id": "vF1sRYVWSLOu",
        "outputId": "5191c7a5-999d-4c1b-8f4e-3c0384cc081c"
      },
      "execution_count": 6,
      "outputs": [
        {
          "output_type": "execute_result",
          "data": {
            "text/plain": [
              "Index(['Date', 'Open', 'High', 'Low', 'Close', 'Adj Close', 'Volume'], dtype='object')"
            ]
          },
          "metadata": {},
          "execution_count": 6
        }
      ]
    },
    {
      "cell_type": "code",
      "source": [
        "# Define the input features and target variable\n",
        "features = ['Open', 'High', 'Low', 'Adj Close', 'Volume']\n",
        "target = 'Close'"
      ],
      "metadata": {
        "id": "veIcAX7Pw1Y-"
      },
      "execution_count": null,
      "outputs": []
    },
    {
      "cell_type": "code",
      "source": [
        "# Scale input features and target separately for better performance of the model\n",
        "\n",
        "f_scaler = MinMaxScaler()\n",
        "t_scaler = MinMaxScaler()\n",
        "df[features] = f_scaler.fit_transform(df[features])\n",
        "df[[target]] = t_scaler.fit_transform(df[[target]])"
      ],
      "metadata": {
        "id": "INlLlgZdRri0"
      },
      "execution_count": 7,
      "outputs": []
    },
    {
      "cell_type": "code",
      "source": [
        "# Function to generate time series sequences for model training\n",
        "\n",
        "def create_sequences(data,len_seq,len_forecast):\n",
        "  x,y=[],[]\n",
        "  for i in range(len(data)-len_seq-len_forecast):\n",
        "    x.append(data[features].iloc[i:i+len_seq].values)\n",
        "    y.append(data[target].iloc[i+len_seq:i+len_seq+len_forecast].values)\n",
        "  return np.array(x), np.array(y)"
      ],
      "metadata": {
        "id": "3BaWjXgMcQLy"
      },
      "execution_count": 8,
      "outputs": []
    },
    {
      "cell_type": "code",
      "source": [
        "# Generate sequences\n",
        "x,y=create_sequences(df,len_seq=60,len_forecast=7)"
      ],
      "metadata": {
        "id": "Iv1HWXOFjSV5"
      },
      "execution_count": 9,
      "outputs": []
    },
    {
      "cell_type": "code",
      "source": [
        "#train test split\n",
        "x_train,x_test,y_train,y_test=train_test_split(x,y,test_size=0.1)"
      ],
      "metadata": {
        "id": "cLeF_XgdjeVo"
      },
      "execution_count": 10,
      "outputs": []
    },
    {
      "cell_type": "code",
      "source": [
        "# Define the Attention layer\n",
        "@tf.keras.utils.register_keras_serializable()\n",
        "class Attention(Layer):\n",
        "    def __init__(self, **kwargs):\n",
        "        super(Attention, self).__init__(**kwargs)\n",
        "\n",
        "    def build(self, input_shape):\n",
        "        self.W = self.add_weight(name='attention_weight', shape=(input_shape[-1], 1), initializer='random_normal', trainable=True)\n",
        "        self.b = self.add_weight(name='attention_bias', shape=(input_shape[1], 1), initializer='zeros', trainable=True)\n",
        "        super(Attention, self).build(input_shape)\n",
        "\n",
        "    def call(self, x):\n",
        "        e = K.tanh(K.dot(x, self.W) + self.b)\n",
        "        e = K.squeeze(e, axis=-1)\n",
        "        alpha = K.softmax(e)\n",
        "        alpha = K.expand_dims(alpha, axis=-1)\n",
        "        context = x * alpha\n",
        "        context = K.sum(context, axis=1)\n",
        "        return context"
      ],
      "metadata": {
        "id": "jfxmG9AFjt6T"
      },
      "execution_count": 11,
      "outputs": []
    },
    {
      "cell_type": "code",
      "source": [
        "#build a model(Model combining CNN, LSTM, and Attention)\n",
        "def create_model(input_shape):\n",
        "  inputs=Input(shape=input_shape)\n",
        "\n",
        "  # Convolutional layers\n",
        "  x=Conv1D(128,kernel_size=3,padding=\"same\", activation=\"relu\")(inputs)\n",
        "  x=Dropout(0.3)(x)\n",
        "\n",
        "  x=Conv1D(128,kernel_size=3,padding=\"same\",activation=\"relu\")(x)\n",
        "  x=Dropout(0.3)(x)\n",
        "\n",
        "  x=Conv1D(128,kernel_size=3,padding=\"same\",activation=\"relu\")(x)\n",
        "  x=Dropout(0.3)(x)\n",
        "\n",
        "  #LSTM\n",
        "  x=LSTM(200,return_sequences=True)(x)\n",
        "  x=Dropout(0.3)(x)\n",
        "  x=LSTM(200,return_sequences=True)(x)\n",
        "  x=Dropout(0.3)(x)\n",
        "  x=LSTM(200,return_sequences=True)(x)\n",
        "  x=Dropout(0.3)(x)\n",
        "\n",
        "  # Apply Attention mechanism\n",
        "  attention=Attention()(x)\n",
        "\n",
        "  # Output layer predicting next 7 time steps\n",
        "  outputs=Dense(7)(attention)\n",
        "\n",
        "  # Compile the model\n",
        "  model=Model(inputs,outputs)\n",
        "  model.compile(optimizer='adam', loss='mse', metrics=[tf.keras.metrics.MeanAbsoluteError(), tf.keras.metrics.RootMeanSquaredError()])\n",
        "\n",
        "\n",
        "  return model"
      ],
      "metadata": {
        "id": "gt4rlGu0r-wa"
      },
      "execution_count": 12,
      "outputs": []
    },
    {
      "cell_type": "code",
      "source": [
        "# Create and summarize the model\n",
        "len_seq=60\n",
        "model = create_model((60, 5))\n",
        "model.summary()"
      ],
      "metadata": {
        "colab": {
          "base_uri": "https://localhost:8080/",
          "height": 609
        },
        "id": "xAaD9bZMY4tD",
        "outputId": "e45c3cc6-d172-4f8f-88c1-fcd54952cd72"
      },
      "execution_count": 13,
      "outputs": [
        {
          "output_type": "display_data",
          "data": {
            "text/plain": [
              "\u001b[1mModel: \"functional\"\u001b[0m\n"
            ],
            "text/html": [
              "<pre style=\"white-space:pre;overflow-x:auto;line-height:normal;font-family:Menlo,'DejaVu Sans Mono',consolas,'Courier New',monospace\"><span style=\"font-weight: bold\">Model: \"functional\"</span>\n",
              "</pre>\n"
            ]
          },
          "metadata": {}
        },
        {
          "output_type": "display_data",
          "data": {
            "text/plain": [
              "┏━━━━━━━━━━━━━━━━━━━━━━━━━━━━━━━━━┳━━━━━━━━━━━━━━━━━━━━━━━━┳━━━━━━━━━━━━━━━┓\n",
              "┃\u001b[1m \u001b[0m\u001b[1mLayer (type)                   \u001b[0m\u001b[1m \u001b[0m┃\u001b[1m \u001b[0m\u001b[1mOutput Shape          \u001b[0m\u001b[1m \u001b[0m┃\u001b[1m \u001b[0m\u001b[1m      Param #\u001b[0m\u001b[1m \u001b[0m┃\n",
              "┡━━━━━━━━━━━━━━━━━━━━━━━━━━━━━━━━━╇━━━━━━━━━━━━━━━━━━━━━━━━╇━━━━━━━━━━━━━━━┩\n",
              "│ input_layer (\u001b[38;5;33mInputLayer\u001b[0m)        │ (\u001b[38;5;45mNone\u001b[0m, \u001b[38;5;34m60\u001b[0m, \u001b[38;5;34m5\u001b[0m)          │             \u001b[38;5;34m0\u001b[0m │\n",
              "├─────────────────────────────────┼────────────────────────┼───────────────┤\n",
              "│ conv1d (\u001b[38;5;33mConv1D\u001b[0m)                 │ (\u001b[38;5;45mNone\u001b[0m, \u001b[38;5;34m60\u001b[0m, \u001b[38;5;34m128\u001b[0m)        │         \u001b[38;5;34m2,048\u001b[0m │\n",
              "├─────────────────────────────────┼────────────────────────┼───────────────┤\n",
              "│ dropout (\u001b[38;5;33mDropout\u001b[0m)               │ (\u001b[38;5;45mNone\u001b[0m, \u001b[38;5;34m60\u001b[0m, \u001b[38;5;34m128\u001b[0m)        │             \u001b[38;5;34m0\u001b[0m │\n",
              "├─────────────────────────────────┼────────────────────────┼───────────────┤\n",
              "│ conv1d_1 (\u001b[38;5;33mConv1D\u001b[0m)               │ (\u001b[38;5;45mNone\u001b[0m, \u001b[38;5;34m60\u001b[0m, \u001b[38;5;34m128\u001b[0m)        │        \u001b[38;5;34m49,280\u001b[0m │\n",
              "├─────────────────────────────────┼────────────────────────┼───────────────┤\n",
              "│ dropout_1 (\u001b[38;5;33mDropout\u001b[0m)             │ (\u001b[38;5;45mNone\u001b[0m, \u001b[38;5;34m60\u001b[0m, \u001b[38;5;34m128\u001b[0m)        │             \u001b[38;5;34m0\u001b[0m │\n",
              "├─────────────────────────────────┼────────────────────────┼───────────────┤\n",
              "│ conv1d_2 (\u001b[38;5;33mConv1D\u001b[0m)               │ (\u001b[38;5;45mNone\u001b[0m, \u001b[38;5;34m60\u001b[0m, \u001b[38;5;34m128\u001b[0m)        │        \u001b[38;5;34m49,280\u001b[0m │\n",
              "├─────────────────────────────────┼────────────────────────┼───────────────┤\n",
              "│ dropout_2 (\u001b[38;5;33mDropout\u001b[0m)             │ (\u001b[38;5;45mNone\u001b[0m, \u001b[38;5;34m60\u001b[0m, \u001b[38;5;34m128\u001b[0m)        │             \u001b[38;5;34m0\u001b[0m │\n",
              "├─────────────────────────────────┼────────────────────────┼───────────────┤\n",
              "│ lstm (\u001b[38;5;33mLSTM\u001b[0m)                     │ (\u001b[38;5;45mNone\u001b[0m, \u001b[38;5;34m60\u001b[0m, \u001b[38;5;34m200\u001b[0m)        │       \u001b[38;5;34m263,200\u001b[0m │\n",
              "├─────────────────────────────────┼────────────────────────┼───────────────┤\n",
              "│ dropout_3 (\u001b[38;5;33mDropout\u001b[0m)             │ (\u001b[38;5;45mNone\u001b[0m, \u001b[38;5;34m60\u001b[0m, \u001b[38;5;34m200\u001b[0m)        │             \u001b[38;5;34m0\u001b[0m │\n",
              "├─────────────────────────────────┼────────────────────────┼───────────────┤\n",
              "│ lstm_1 (\u001b[38;5;33mLSTM\u001b[0m)                   │ (\u001b[38;5;45mNone\u001b[0m, \u001b[38;5;34m60\u001b[0m, \u001b[38;5;34m200\u001b[0m)        │       \u001b[38;5;34m320,800\u001b[0m │\n",
              "├─────────────────────────────────┼────────────────────────┼───────────────┤\n",
              "│ dropout_4 (\u001b[38;5;33mDropout\u001b[0m)             │ (\u001b[38;5;45mNone\u001b[0m, \u001b[38;5;34m60\u001b[0m, \u001b[38;5;34m200\u001b[0m)        │             \u001b[38;5;34m0\u001b[0m │\n",
              "├─────────────────────────────────┼────────────────────────┼───────────────┤\n",
              "│ lstm_2 (\u001b[38;5;33mLSTM\u001b[0m)                   │ (\u001b[38;5;45mNone\u001b[0m, \u001b[38;5;34m60\u001b[0m, \u001b[38;5;34m200\u001b[0m)        │       \u001b[38;5;34m320,800\u001b[0m │\n",
              "├─────────────────────────────────┼────────────────────────┼───────────────┤\n",
              "│ dropout_5 (\u001b[38;5;33mDropout\u001b[0m)             │ (\u001b[38;5;45mNone\u001b[0m, \u001b[38;5;34m60\u001b[0m, \u001b[38;5;34m200\u001b[0m)        │             \u001b[38;5;34m0\u001b[0m │\n",
              "├─────────────────────────────────┼────────────────────────┼───────────────┤\n",
              "│ attention (\u001b[38;5;33mAttention\u001b[0m)           │ (\u001b[38;5;45mNone\u001b[0m, \u001b[38;5;34m200\u001b[0m)            │           \u001b[38;5;34m260\u001b[0m │\n",
              "├─────────────────────────────────┼────────────────────────┼───────────────┤\n",
              "│ dense (\u001b[38;5;33mDense\u001b[0m)                   │ (\u001b[38;5;45mNone\u001b[0m, \u001b[38;5;34m7\u001b[0m)              │         \u001b[38;5;34m1,407\u001b[0m │\n",
              "└─────────────────────────────────┴────────────────────────┴───────────────┘\n"
            ],
            "text/html": [
              "<pre style=\"white-space:pre;overflow-x:auto;line-height:normal;font-family:Menlo,'DejaVu Sans Mono',consolas,'Courier New',monospace\">┏━━━━━━━━━━━━━━━━━━━━━━━━━━━━━━━━━┳━━━━━━━━━━━━━━━━━━━━━━━━┳━━━━━━━━━━━━━━━┓\n",
              "┃<span style=\"font-weight: bold\"> Layer (type)                    </span>┃<span style=\"font-weight: bold\"> Output Shape           </span>┃<span style=\"font-weight: bold\">       Param # </span>┃\n",
              "┡━━━━━━━━━━━━━━━━━━━━━━━━━━━━━━━━━╇━━━━━━━━━━━━━━━━━━━━━━━━╇━━━━━━━━━━━━━━━┩\n",
              "│ input_layer (<span style=\"color: #0087ff; text-decoration-color: #0087ff\">InputLayer</span>)        │ (<span style=\"color: #00d7ff; text-decoration-color: #00d7ff\">None</span>, <span style=\"color: #00af00; text-decoration-color: #00af00\">60</span>, <span style=\"color: #00af00; text-decoration-color: #00af00\">5</span>)          │             <span style=\"color: #00af00; text-decoration-color: #00af00\">0</span> │\n",
              "├─────────────────────────────────┼────────────────────────┼───────────────┤\n",
              "│ conv1d (<span style=\"color: #0087ff; text-decoration-color: #0087ff\">Conv1D</span>)                 │ (<span style=\"color: #00d7ff; text-decoration-color: #00d7ff\">None</span>, <span style=\"color: #00af00; text-decoration-color: #00af00\">60</span>, <span style=\"color: #00af00; text-decoration-color: #00af00\">128</span>)        │         <span style=\"color: #00af00; text-decoration-color: #00af00\">2,048</span> │\n",
              "├─────────────────────────────────┼────────────────────────┼───────────────┤\n",
              "│ dropout (<span style=\"color: #0087ff; text-decoration-color: #0087ff\">Dropout</span>)               │ (<span style=\"color: #00d7ff; text-decoration-color: #00d7ff\">None</span>, <span style=\"color: #00af00; text-decoration-color: #00af00\">60</span>, <span style=\"color: #00af00; text-decoration-color: #00af00\">128</span>)        │             <span style=\"color: #00af00; text-decoration-color: #00af00\">0</span> │\n",
              "├─────────────────────────────────┼────────────────────────┼───────────────┤\n",
              "│ conv1d_1 (<span style=\"color: #0087ff; text-decoration-color: #0087ff\">Conv1D</span>)               │ (<span style=\"color: #00d7ff; text-decoration-color: #00d7ff\">None</span>, <span style=\"color: #00af00; text-decoration-color: #00af00\">60</span>, <span style=\"color: #00af00; text-decoration-color: #00af00\">128</span>)        │        <span style=\"color: #00af00; text-decoration-color: #00af00\">49,280</span> │\n",
              "├─────────────────────────────────┼────────────────────────┼───────────────┤\n",
              "│ dropout_1 (<span style=\"color: #0087ff; text-decoration-color: #0087ff\">Dropout</span>)             │ (<span style=\"color: #00d7ff; text-decoration-color: #00d7ff\">None</span>, <span style=\"color: #00af00; text-decoration-color: #00af00\">60</span>, <span style=\"color: #00af00; text-decoration-color: #00af00\">128</span>)        │             <span style=\"color: #00af00; text-decoration-color: #00af00\">0</span> │\n",
              "├─────────────────────────────────┼────────────────────────┼───────────────┤\n",
              "│ conv1d_2 (<span style=\"color: #0087ff; text-decoration-color: #0087ff\">Conv1D</span>)               │ (<span style=\"color: #00d7ff; text-decoration-color: #00d7ff\">None</span>, <span style=\"color: #00af00; text-decoration-color: #00af00\">60</span>, <span style=\"color: #00af00; text-decoration-color: #00af00\">128</span>)        │        <span style=\"color: #00af00; text-decoration-color: #00af00\">49,280</span> │\n",
              "├─────────────────────────────────┼────────────────────────┼───────────────┤\n",
              "│ dropout_2 (<span style=\"color: #0087ff; text-decoration-color: #0087ff\">Dropout</span>)             │ (<span style=\"color: #00d7ff; text-decoration-color: #00d7ff\">None</span>, <span style=\"color: #00af00; text-decoration-color: #00af00\">60</span>, <span style=\"color: #00af00; text-decoration-color: #00af00\">128</span>)        │             <span style=\"color: #00af00; text-decoration-color: #00af00\">0</span> │\n",
              "├─────────────────────────────────┼────────────────────────┼───────────────┤\n",
              "│ lstm (<span style=\"color: #0087ff; text-decoration-color: #0087ff\">LSTM</span>)                     │ (<span style=\"color: #00d7ff; text-decoration-color: #00d7ff\">None</span>, <span style=\"color: #00af00; text-decoration-color: #00af00\">60</span>, <span style=\"color: #00af00; text-decoration-color: #00af00\">200</span>)        │       <span style=\"color: #00af00; text-decoration-color: #00af00\">263,200</span> │\n",
              "├─────────────────────────────────┼────────────────────────┼───────────────┤\n",
              "│ dropout_3 (<span style=\"color: #0087ff; text-decoration-color: #0087ff\">Dropout</span>)             │ (<span style=\"color: #00d7ff; text-decoration-color: #00d7ff\">None</span>, <span style=\"color: #00af00; text-decoration-color: #00af00\">60</span>, <span style=\"color: #00af00; text-decoration-color: #00af00\">200</span>)        │             <span style=\"color: #00af00; text-decoration-color: #00af00\">0</span> │\n",
              "├─────────────────────────────────┼────────────────────────┼───────────────┤\n",
              "│ lstm_1 (<span style=\"color: #0087ff; text-decoration-color: #0087ff\">LSTM</span>)                   │ (<span style=\"color: #00d7ff; text-decoration-color: #00d7ff\">None</span>, <span style=\"color: #00af00; text-decoration-color: #00af00\">60</span>, <span style=\"color: #00af00; text-decoration-color: #00af00\">200</span>)        │       <span style=\"color: #00af00; text-decoration-color: #00af00\">320,800</span> │\n",
              "├─────────────────────────────────┼────────────────────────┼───────────────┤\n",
              "│ dropout_4 (<span style=\"color: #0087ff; text-decoration-color: #0087ff\">Dropout</span>)             │ (<span style=\"color: #00d7ff; text-decoration-color: #00d7ff\">None</span>, <span style=\"color: #00af00; text-decoration-color: #00af00\">60</span>, <span style=\"color: #00af00; text-decoration-color: #00af00\">200</span>)        │             <span style=\"color: #00af00; text-decoration-color: #00af00\">0</span> │\n",
              "├─────────────────────────────────┼────────────────────────┼───────────────┤\n",
              "│ lstm_2 (<span style=\"color: #0087ff; text-decoration-color: #0087ff\">LSTM</span>)                   │ (<span style=\"color: #00d7ff; text-decoration-color: #00d7ff\">None</span>, <span style=\"color: #00af00; text-decoration-color: #00af00\">60</span>, <span style=\"color: #00af00; text-decoration-color: #00af00\">200</span>)        │       <span style=\"color: #00af00; text-decoration-color: #00af00\">320,800</span> │\n",
              "├─────────────────────────────────┼────────────────────────┼───────────────┤\n",
              "│ dropout_5 (<span style=\"color: #0087ff; text-decoration-color: #0087ff\">Dropout</span>)             │ (<span style=\"color: #00d7ff; text-decoration-color: #00d7ff\">None</span>, <span style=\"color: #00af00; text-decoration-color: #00af00\">60</span>, <span style=\"color: #00af00; text-decoration-color: #00af00\">200</span>)        │             <span style=\"color: #00af00; text-decoration-color: #00af00\">0</span> │\n",
              "├─────────────────────────────────┼────────────────────────┼───────────────┤\n",
              "│ attention (<span style=\"color: #0087ff; text-decoration-color: #0087ff\">Attention</span>)           │ (<span style=\"color: #00d7ff; text-decoration-color: #00d7ff\">None</span>, <span style=\"color: #00af00; text-decoration-color: #00af00\">200</span>)            │           <span style=\"color: #00af00; text-decoration-color: #00af00\">260</span> │\n",
              "├─────────────────────────────────┼────────────────────────┼───────────────┤\n",
              "│ dense (<span style=\"color: #0087ff; text-decoration-color: #0087ff\">Dense</span>)                   │ (<span style=\"color: #00d7ff; text-decoration-color: #00d7ff\">None</span>, <span style=\"color: #00af00; text-decoration-color: #00af00\">7</span>)              │         <span style=\"color: #00af00; text-decoration-color: #00af00\">1,407</span> │\n",
              "└─────────────────────────────────┴────────────────────────┴───────────────┘\n",
              "</pre>\n"
            ]
          },
          "metadata": {}
        },
        {
          "output_type": "display_data",
          "data": {
            "text/plain": [
              "\u001b[1m Total params: \u001b[0m\u001b[38;5;34m1,007,075\u001b[0m (3.84 MB)\n"
            ],
            "text/html": [
              "<pre style=\"white-space:pre;overflow-x:auto;line-height:normal;font-family:Menlo,'DejaVu Sans Mono',consolas,'Courier New',monospace\"><span style=\"font-weight: bold\"> Total params: </span><span style=\"color: #00af00; text-decoration-color: #00af00\">1,007,075</span> (3.84 MB)\n",
              "</pre>\n"
            ]
          },
          "metadata": {}
        },
        {
          "output_type": "display_data",
          "data": {
            "text/plain": [
              "\u001b[1m Trainable params: \u001b[0m\u001b[38;5;34m1,007,075\u001b[0m (3.84 MB)\n"
            ],
            "text/html": [
              "<pre style=\"white-space:pre;overflow-x:auto;line-height:normal;font-family:Menlo,'DejaVu Sans Mono',consolas,'Courier New',monospace\"><span style=\"font-weight: bold\"> Trainable params: </span><span style=\"color: #00af00; text-decoration-color: #00af00\">1,007,075</span> (3.84 MB)\n",
              "</pre>\n"
            ]
          },
          "metadata": {}
        },
        {
          "output_type": "display_data",
          "data": {
            "text/plain": [
              "\u001b[1m Non-trainable params: \u001b[0m\u001b[38;5;34m0\u001b[0m (0.00 B)\n"
            ],
            "text/html": [
              "<pre style=\"white-space:pre;overflow-x:auto;line-height:normal;font-family:Menlo,'DejaVu Sans Mono',consolas,'Courier New',monospace\"><span style=\"font-weight: bold\"> Non-trainable params: </span><span style=\"color: #00af00; text-decoration-color: #00af00\">0</span> (0.00 B)\n",
              "</pre>\n"
            ]
          },
          "metadata": {}
        }
      ]
    },
    {
      "cell_type": "code",
      "source": [
        "# Callbacks\n",
        "early_stopping = EarlyStopping(monitor='val_loss', patience=10, restore_best_weights=True)\n",
        "reduce_lr = ReduceLROnPlateau(monitor='val_loss', factor=0.2, patience=5, min_lr=0.001)"
      ],
      "metadata": {
        "id": "AZCfuNXuZS5l"
      },
      "execution_count": 14,
      "outputs": []
    },
    {
      "cell_type": "code",
      "source": [
        "# Train the model\n",
        "history = model.fit(x_train, y_train, epochs=100, batch_size=64, validation_data=(x_test,y_test),\n",
        "                    callbacks=[early_stopping, reduce_lr])\n"
      ],
      "metadata": {
        "colab": {
          "base_uri": "https://localhost:8080/"
        },
        "id": "U4jsKpwtcmK2",
        "outputId": "b1dff2b6-5e9a-4830-fe62-8216ef645f8f"
      },
      "execution_count": 15,
      "outputs": [
        {
          "output_type": "stream",
          "name": "stdout",
          "text": [
            "Epoch 1/100\n",
            "\u001b[1m70/70\u001b[0m \u001b[32m━━━━━━━━━━━━━━━━━━━━\u001b[0m\u001b[37m\u001b[0m \u001b[1m41s\u001b[0m 518ms/step - loss: 0.0323 - mean_absolute_error: 0.0949 - root_mean_squared_error: 0.1730 - val_loss: 0.0016 - val_mean_absolute_error: 0.0205 - val_root_mean_squared_error: 0.0397 - learning_rate: 0.0010\n",
            "Epoch 2/100\n",
            "\u001b[1m70/70\u001b[0m \u001b[32m━━━━━━━━━━━━━━━━━━━━\u001b[0m\u001b[37m\u001b[0m \u001b[1m39s\u001b[0m 495ms/step - loss: 0.0014 - mean_absolute_error: 0.0217 - root_mean_squared_error: 0.0374 - val_loss: 0.0012 - val_mean_absolute_error: 0.0202 - val_root_mean_squared_error: 0.0348 - learning_rate: 0.0010\n",
            "Epoch 3/100\n",
            "\u001b[1m70/70\u001b[0m \u001b[32m━━━━━━━━━━━━━━━━━━━━\u001b[0m\u001b[37m\u001b[0m \u001b[1m38s\u001b[0m 456ms/step - loss: 0.0014 - mean_absolute_error: 0.0214 - root_mean_squared_error: 0.0376 - val_loss: 0.0013 - val_mean_absolute_error: 0.0189 - val_root_mean_squared_error: 0.0362 - learning_rate: 0.0010\n",
            "Epoch 4/100\n",
            "\u001b[1m70/70\u001b[0m \u001b[32m━━━━━━━━━━━━━━━━━━━━\u001b[0m\u001b[37m\u001b[0m \u001b[1m41s\u001b[0m 457ms/step - loss: 0.0014 - mean_absolute_error: 0.0205 - root_mean_squared_error: 0.0372 - val_loss: 0.0011 - val_mean_absolute_error: 0.0174 - val_root_mean_squared_error: 0.0327 - learning_rate: 0.0010\n",
            "Epoch 5/100\n",
            "\u001b[1m70/70\u001b[0m \u001b[32m━━━━━━━━━━━━━━━━━━━━\u001b[0m\u001b[37m\u001b[0m \u001b[1m32s\u001b[0m 462ms/step - loss: 0.0014 - mean_absolute_error: 0.0193 - root_mean_squared_error: 0.0367 - val_loss: 0.0011 - val_mean_absolute_error: 0.0186 - val_root_mean_squared_error: 0.0328 - learning_rate: 0.0010\n",
            "Epoch 6/100\n",
            "\u001b[1m70/70\u001b[0m \u001b[32m━━━━━━━━━━━━━━━━━━━━\u001b[0m\u001b[37m\u001b[0m \u001b[1m40s\u001b[0m 451ms/step - loss: 0.0012 - mean_absolute_error: 0.0188 - root_mean_squared_error: 0.0345 - val_loss: 0.0012 - val_mean_absolute_error: 0.0162 - val_root_mean_squared_error: 0.0343 - learning_rate: 0.0010\n",
            "Epoch 7/100\n",
            "\u001b[1m70/70\u001b[0m \u001b[32m━━━━━━━━━━━━━━━━━━━━\u001b[0m\u001b[37m\u001b[0m \u001b[1m41s\u001b[0m 457ms/step - loss: 0.0010 - mean_absolute_error: 0.0174 - root_mean_squared_error: 0.0319 - val_loss: 7.7188e-04 - val_mean_absolute_error: 0.0148 - val_root_mean_squared_error: 0.0278 - learning_rate: 0.0010\n",
            "Epoch 8/100\n",
            "\u001b[1m70/70\u001b[0m \u001b[32m━━━━━━━━━━━━━━━━━━━━\u001b[0m\u001b[37m\u001b[0m \u001b[1m41s\u001b[0m 458ms/step - loss: 9.2254e-04 - mean_absolute_error: 0.0163 - root_mean_squared_error: 0.0303 - val_loss: 8.0645e-04 - val_mean_absolute_error: 0.0156 - val_root_mean_squared_error: 0.0284 - learning_rate: 0.0010\n",
            "Epoch 9/100\n",
            "\u001b[1m70/70\u001b[0m \u001b[32m━━━━━━━━━━━━━━━━━━━━\u001b[0m\u001b[37m\u001b[0m \u001b[1m40s\u001b[0m 449ms/step - loss: 8.5297e-04 - mean_absolute_error: 0.0162 - root_mean_squared_error: 0.0292 - val_loss: 9.3278e-04 - val_mean_absolute_error: 0.0152 - val_root_mean_squared_error: 0.0305 - learning_rate: 0.0010\n",
            "Epoch 10/100\n",
            "\u001b[1m70/70\u001b[0m \u001b[32m━━━━━━━━━━━━━━━━━━━━\u001b[0m\u001b[37m\u001b[0m \u001b[1m32s\u001b[0m 456ms/step - loss: 9.0887e-04 - mean_absolute_error: 0.0166 - root_mean_squared_error: 0.0301 - val_loss: 0.0015 - val_mean_absolute_error: 0.0211 - val_root_mean_squared_error: 0.0391 - learning_rate: 0.0010\n",
            "Epoch 11/100\n",
            "\u001b[1m70/70\u001b[0m \u001b[32m━━━━━━━━━━━━━━━━━━━━\u001b[0m\u001b[37m\u001b[0m \u001b[1m41s\u001b[0m 458ms/step - loss: 0.0013 - mean_absolute_error: 0.0194 - root_mean_squared_error: 0.0363 - val_loss: 0.0013 - val_mean_absolute_error: 0.0180 - val_root_mean_squared_error: 0.0366 - learning_rate: 0.0010\n",
            "Epoch 12/100\n",
            "\u001b[1m70/70\u001b[0m \u001b[32m━━━━━━━━━━━━━━━━━━━━\u001b[0m\u001b[37m\u001b[0m \u001b[1m43s\u001b[0m 482ms/step - loss: 9.9824e-04 - mean_absolute_error: 0.0174 - root_mean_squared_error: 0.0315 - val_loss: 0.0011 - val_mean_absolute_error: 0.0188 - val_root_mean_squared_error: 0.0335 - learning_rate: 0.0010\n",
            "Epoch 13/100\n",
            "\u001b[1m70/70\u001b[0m \u001b[32m━━━━━━━━━━━━━━━━━━━━\u001b[0m\u001b[37m\u001b[0m \u001b[1m37s\u001b[0m 525ms/step - loss: 0.0012 - mean_absolute_error: 0.0180 - root_mean_squared_error: 0.0344 - val_loss: 6.5339e-04 - val_mean_absolute_error: 0.0157 - val_root_mean_squared_error: 0.0256 - learning_rate: 0.0010\n",
            "Epoch 14/100\n",
            "\u001b[1m70/70\u001b[0m \u001b[32m━━━━━━━━━━━━━━━━━━━━\u001b[0m\u001b[37m\u001b[0m \u001b[1m38s\u001b[0m 479ms/step - loss: 8.0450e-04 - mean_absolute_error: 0.0157 - root_mean_squared_error: 0.0283 - val_loss: 5.4497e-04 - val_mean_absolute_error: 0.0124 - val_root_mean_squared_error: 0.0233 - learning_rate: 0.0010\n",
            "Epoch 15/100\n",
            "\u001b[1m70/70\u001b[0m \u001b[32m━━━━━━━━━━━━━━━━━━━━\u001b[0m\u001b[37m\u001b[0m \u001b[1m40s\u001b[0m 461ms/step - loss: 6.9268e-04 - mean_absolute_error: 0.0148 - root_mean_squared_error: 0.0263 - val_loss: 5.1475e-04 - val_mean_absolute_error: 0.0133 - val_root_mean_squared_error: 0.0227 - learning_rate: 0.0010\n",
            "Epoch 16/100\n",
            "\u001b[1m70/70\u001b[0m \u001b[32m━━━━━━━━━━━━━━━━━━━━\u001b[0m\u001b[37m\u001b[0m \u001b[1m39s\u001b[0m 553ms/step - loss: 0.0011 - mean_absolute_error: 0.0178 - root_mean_squared_error: 0.0335 - val_loss: 6.6775e-04 - val_mean_absolute_error: 0.0143 - val_root_mean_squared_error: 0.0258 - learning_rate: 0.0010\n",
            "Epoch 17/100\n",
            "\u001b[1m70/70\u001b[0m \u001b[32m━━━━━━━━━━━━━━━━━━━━\u001b[0m\u001b[37m\u001b[0m \u001b[1m35s\u001b[0m 472ms/step - loss: 9.8576e-04 - mean_absolute_error: 0.0168 - root_mean_squared_error: 0.0313 - val_loss: 0.0010 - val_mean_absolute_error: 0.0163 - val_root_mean_squared_error: 0.0318 - learning_rate: 0.0010\n",
            "Epoch 18/100\n",
            "\u001b[1m70/70\u001b[0m \u001b[32m━━━━━━━━━━━━━━━━━━━━\u001b[0m\u001b[37m\u001b[0m \u001b[1m40s\u001b[0m 460ms/step - loss: 9.9354e-04 - mean_absolute_error: 0.0175 - root_mean_squared_error: 0.0315 - val_loss: 7.3357e-04 - val_mean_absolute_error: 0.0137 - val_root_mean_squared_error: 0.0271 - learning_rate: 0.0010\n",
            "Epoch 19/100\n",
            "\u001b[1m70/70\u001b[0m \u001b[32m━━━━━━━━━━━━━━━━━━━━\u001b[0m\u001b[37m\u001b[0m \u001b[1m42s\u001b[0m 474ms/step - loss: 8.5365e-04 - mean_absolute_error: 0.0160 - root_mean_squared_error: 0.0292 - val_loss: 6.5934e-04 - val_mean_absolute_error: 0.0132 - val_root_mean_squared_error: 0.0257 - learning_rate: 0.0010\n",
            "Epoch 20/100\n",
            "\u001b[1m70/70\u001b[0m \u001b[32m━━━━━━━━━━━━━━━━━━━━\u001b[0m\u001b[37m\u001b[0m \u001b[1m41s\u001b[0m 470ms/step - loss: 6.6621e-04 - mean_absolute_error: 0.0142 - root_mean_squared_error: 0.0258 - val_loss: 4.3415e-04 - val_mean_absolute_error: 0.0113 - val_root_mean_squared_error: 0.0208 - learning_rate: 0.0010\n",
            "Epoch 21/100\n",
            "\u001b[1m70/70\u001b[0m \u001b[32m━━━━━━━━━━━━━━━━━━━━\u001b[0m\u001b[37m\u001b[0m \u001b[1m41s\u001b[0m 474ms/step - loss: 0.0011 - mean_absolute_error: 0.0173 - root_mean_squared_error: 0.0323 - val_loss: 5.4814e-04 - val_mean_absolute_error: 0.0133 - val_root_mean_squared_error: 0.0234 - learning_rate: 0.0010\n",
            "Epoch 22/100\n",
            "\u001b[1m70/70\u001b[0m \u001b[32m━━━━━━━━━━━━━━━━━━━━\u001b[0m\u001b[37m\u001b[0m \u001b[1m41s\u001b[0m 471ms/step - loss: 7.2844e-04 - mean_absolute_error: 0.0152 - root_mean_squared_error: 0.0269 - val_loss: 5.8770e-04 - val_mean_absolute_error: 0.0141 - val_root_mean_squared_error: 0.0242 - learning_rate: 0.0010\n",
            "Epoch 23/100\n",
            "\u001b[1m70/70\u001b[0m \u001b[32m━━━━━━━━━━━━━━━━━━━━\u001b[0m\u001b[37m\u001b[0m \u001b[1m40s\u001b[0m 461ms/step - loss: 8.9291e-04 - mean_absolute_error: 0.0169 - root_mean_squared_error: 0.0299 - val_loss: 0.0014 - val_mean_absolute_error: 0.0194 - val_root_mean_squared_error: 0.0371 - learning_rate: 0.0010\n",
            "Epoch 24/100\n",
            "\u001b[1m70/70\u001b[0m \u001b[32m━━━━━━━━━━━━━━━━━━━━\u001b[0m\u001b[37m\u001b[0m \u001b[1m33s\u001b[0m 469ms/step - loss: 7.4352e-04 - mean_absolute_error: 0.0152 - root_mean_squared_error: 0.0272 - val_loss: 6.0460e-04 - val_mean_absolute_error: 0.0131 - val_root_mean_squared_error: 0.0246 - learning_rate: 0.0010\n",
            "Epoch 25/100\n",
            "\u001b[1m70/70\u001b[0m \u001b[32m━━━━━━━━━━━━━━━━━━━━\u001b[0m\u001b[37m\u001b[0m \u001b[1m41s\u001b[0m 471ms/step - loss: 6.6219e-04 - mean_absolute_error: 0.0143 - root_mean_squared_error: 0.0257 - val_loss: 4.8476e-04 - val_mean_absolute_error: 0.0124 - val_root_mean_squared_error: 0.0220 - learning_rate: 0.0010\n",
            "Epoch 26/100\n",
            "\u001b[1m70/70\u001b[0m \u001b[32m━━━━━━━━━━━━━━━━━━━━\u001b[0m\u001b[37m\u001b[0m \u001b[1m33s\u001b[0m 470ms/step - loss: 7.1023e-04 - mean_absolute_error: 0.0147 - root_mean_squared_error: 0.0266 - val_loss: 4.2945e-04 - val_mean_absolute_error: 0.0118 - val_root_mean_squared_error: 0.0207 - learning_rate: 0.0010\n",
            "Epoch 27/100\n",
            "\u001b[1m70/70\u001b[0m \u001b[32m━━━━━━━━━━━━━━━━━━━━\u001b[0m\u001b[37m\u001b[0m \u001b[1m41s\u001b[0m 470ms/step - loss: 5.7455e-04 - mean_absolute_error: 0.0134 - root_mean_squared_error: 0.0240 - val_loss: 4.3701e-04 - val_mean_absolute_error: 0.0112 - val_root_mean_squared_error: 0.0209 - learning_rate: 0.0010\n",
            "Epoch 28/100\n",
            "\u001b[1m70/70\u001b[0m \u001b[32m━━━━━━━━━━━━━━━━━━━━\u001b[0m\u001b[37m\u001b[0m \u001b[1m41s\u001b[0m 471ms/step - loss: 6.6007e-04 - mean_absolute_error: 0.0142 - root_mean_squared_error: 0.0257 - val_loss: 4.6797e-04 - val_mean_absolute_error: 0.0129 - val_root_mean_squared_error: 0.0216 - learning_rate: 0.0010\n",
            "Epoch 29/100\n",
            "\u001b[1m70/70\u001b[0m \u001b[32m━━━━━━━━━━━━━━━━━━━━\u001b[0m\u001b[37m\u001b[0m \u001b[1m41s\u001b[0m 472ms/step - loss: 5.0549e-04 - mean_absolute_error: 0.0130 - root_mean_squared_error: 0.0225 - val_loss: 4.1504e-04 - val_mean_absolute_error: 0.0109 - val_root_mean_squared_error: 0.0204 - learning_rate: 0.0010\n",
            "Epoch 30/100\n",
            "\u001b[1m70/70\u001b[0m \u001b[32m━━━━━━━━━━━━━━━━━━━━\u001b[0m\u001b[37m\u001b[0m \u001b[1m41s\u001b[0m 465ms/step - loss: 5.8791e-04 - mean_absolute_error: 0.0143 - root_mean_squared_error: 0.0242 - val_loss: 4.6559e-04 - val_mean_absolute_error: 0.0111 - val_root_mean_squared_error: 0.0216 - learning_rate: 0.0010\n",
            "Epoch 31/100\n",
            "\u001b[1m70/70\u001b[0m \u001b[32m━━━━━━━━━━━━━━━━━━━━\u001b[0m\u001b[37m\u001b[0m \u001b[1m34s\u001b[0m 481ms/step - loss: 6.7764e-04 - mean_absolute_error: 0.0143 - root_mean_squared_error: 0.0260 - val_loss: 2.9741e-04 - val_mean_absolute_error: 0.0095 - val_root_mean_squared_error: 0.0172 - learning_rate: 0.0010\n",
            "Epoch 32/100\n",
            "\u001b[1m70/70\u001b[0m \u001b[32m━━━━━━━━━━━━━━━━━━━━\u001b[0m\u001b[37m\u001b[0m \u001b[1m40s\u001b[0m 469ms/step - loss: 5.2341e-04 - mean_absolute_error: 0.0133 - root_mean_squared_error: 0.0229 - val_loss: 2.9258e-04 - val_mean_absolute_error: 0.0093 - val_root_mean_squared_error: 0.0171 - learning_rate: 0.0010\n",
            "Epoch 33/100\n",
            "\u001b[1m70/70\u001b[0m \u001b[32m━━━━━━━━━━━━━━━━━━━━\u001b[0m\u001b[37m\u001b[0m \u001b[1m34s\u001b[0m 481ms/step - loss: 5.5426e-04 - mean_absolute_error: 0.0133 - root_mean_squared_error: 0.0235 - val_loss: 4.3249e-04 - val_mean_absolute_error: 0.0110 - val_root_mean_squared_error: 0.0208 - learning_rate: 0.0010\n",
            "Epoch 34/100\n",
            "\u001b[1m70/70\u001b[0m \u001b[32m━━━━━━━━━━━━━━━━━━━━\u001b[0m\u001b[37m\u001b[0m \u001b[1m33s\u001b[0m 469ms/step - loss: 4.7940e-04 - mean_absolute_error: 0.0122 - root_mean_squared_error: 0.0219 - val_loss: 3.2781e-04 - val_mean_absolute_error: 0.0095 - val_root_mean_squared_error: 0.0181 - learning_rate: 0.0010\n",
            "Epoch 35/100\n",
            "\u001b[1m70/70\u001b[0m \u001b[32m━━━━━━━━━━━━━━━━━━━━\u001b[0m\u001b[37m\u001b[0m \u001b[1m33s\u001b[0m 466ms/step - loss: 4.4878e-04 - mean_absolute_error: 0.0120 - root_mean_squared_error: 0.0212 - val_loss: 4.4710e-04 - val_mean_absolute_error: 0.0126 - val_root_mean_squared_error: 0.0211 - learning_rate: 0.0010\n",
            "Epoch 36/100\n",
            "\u001b[1m70/70\u001b[0m \u001b[32m━━━━━━━━━━━━━━━━━━━━\u001b[0m\u001b[37m\u001b[0m \u001b[1m41s\u001b[0m 474ms/step - loss: 4.5874e-04 - mean_absolute_error: 0.0122 - root_mean_squared_error: 0.0214 - val_loss: 3.4634e-04 - val_mean_absolute_error: 0.0108 - val_root_mean_squared_error: 0.0186 - learning_rate: 0.0010\n",
            "Epoch 37/100\n",
            "\u001b[1m70/70\u001b[0m \u001b[32m━━━━━━━━━━━━━━━━━━━━\u001b[0m\u001b[37m\u001b[0m \u001b[1m41s\u001b[0m 470ms/step - loss: 3.9360e-04 - mean_absolute_error: 0.0114 - root_mean_squared_error: 0.0198 - val_loss: 2.6812e-04 - val_mean_absolute_error: 0.0090 - val_root_mean_squared_error: 0.0164 - learning_rate: 0.0010\n",
            "Epoch 38/100\n",
            "\u001b[1m70/70\u001b[0m \u001b[32m━━━━━━━━━━━━━━━━━━━━\u001b[0m\u001b[37m\u001b[0m \u001b[1m41s\u001b[0m 468ms/step - loss: 4.8401e-04 - mean_absolute_error: 0.0128 - root_mean_squared_error: 0.0220 - val_loss: 2.3887e-04 - val_mean_absolute_error: 0.0088 - val_root_mean_squared_error: 0.0155 - learning_rate: 0.0010\n",
            "Epoch 39/100\n",
            "\u001b[1m70/70\u001b[0m \u001b[32m━━━━━━━━━━━━━━━━━━━━\u001b[0m\u001b[37m\u001b[0m \u001b[1m42s\u001b[0m 481ms/step - loss: 4.9017e-04 - mean_absolute_error: 0.0127 - root_mean_squared_error: 0.0221 - val_loss: 4.2978e-04 - val_mean_absolute_error: 0.0107 - val_root_mean_squared_error: 0.0207 - learning_rate: 0.0010\n",
            "Epoch 40/100\n",
            "\u001b[1m70/70\u001b[0m \u001b[32m━━━━━━━━━━━━━━━━━━━━\u001b[0m\u001b[37m\u001b[0m \u001b[1m41s\u001b[0m 486ms/step - loss: 4.6550e-04 - mean_absolute_error: 0.0123 - root_mean_squared_error: 0.0216 - val_loss: 4.0589e-04 - val_mean_absolute_error: 0.0111 - val_root_mean_squared_error: 0.0201 - learning_rate: 0.0010\n",
            "Epoch 41/100\n",
            "\u001b[1m70/70\u001b[0m \u001b[32m━━━━━━━━━━━━━━━━━━━━\u001b[0m\u001b[37m\u001b[0m \u001b[1m32s\u001b[0m 461ms/step - loss: 5.1664e-04 - mean_absolute_error: 0.0129 - root_mean_squared_error: 0.0227 - val_loss: 2.5051e-04 - val_mean_absolute_error: 0.0093 - val_root_mean_squared_error: 0.0158 - learning_rate: 0.0010\n",
            "Epoch 42/100\n",
            "\u001b[1m70/70\u001b[0m \u001b[32m━━━━━━━━━━━━━━━━━━━━\u001b[0m\u001b[37m\u001b[0m \u001b[1m33s\u001b[0m 465ms/step - loss: 3.9654e-04 - mean_absolute_error: 0.0114 - root_mean_squared_error: 0.0199 - val_loss: 2.3242e-04 - val_mean_absolute_error: 0.0088 - val_root_mean_squared_error: 0.0152 - learning_rate: 0.0010\n",
            "Epoch 43/100\n",
            "\u001b[1m70/70\u001b[0m \u001b[32m━━━━━━━━━━━━━━━━━━━━\u001b[0m\u001b[37m\u001b[0m \u001b[1m41s\u001b[0m 469ms/step - loss: 3.3315e-04 - mean_absolute_error: 0.0106 - root_mean_squared_error: 0.0183 - val_loss: 2.0525e-04 - val_mean_absolute_error: 0.0080 - val_root_mean_squared_error: 0.0143 - learning_rate: 0.0010\n",
            "Epoch 44/100\n",
            "\u001b[1m70/70\u001b[0m \u001b[32m━━━━━━━━━━━━━━━━━━━━\u001b[0m\u001b[37m\u001b[0m \u001b[1m42s\u001b[0m 481ms/step - loss: 3.9474e-04 - mean_absolute_error: 0.0115 - root_mean_squared_error: 0.0198 - val_loss: 3.9650e-04 - val_mean_absolute_error: 0.0103 - val_root_mean_squared_error: 0.0199 - learning_rate: 0.0010\n",
            "Epoch 45/100\n",
            "\u001b[1m70/70\u001b[0m \u001b[32m━━━━━━━━━━━━━━━━━━━━\u001b[0m\u001b[37m\u001b[0m \u001b[1m41s\u001b[0m 473ms/step - loss: 4.8512e-04 - mean_absolute_error: 0.0130 - root_mean_squared_error: 0.0220 - val_loss: 1.8120e-04 - val_mean_absolute_error: 0.0076 - val_root_mean_squared_error: 0.0135 - learning_rate: 0.0010\n",
            "Epoch 46/100\n",
            "\u001b[1m70/70\u001b[0m \u001b[32m━━━━━━━━━━━━━━━━━━━━\u001b[0m\u001b[37m\u001b[0m \u001b[1m41s\u001b[0m 472ms/step - loss: 3.6812e-04 - mean_absolute_error: 0.0110 - root_mean_squared_error: 0.0192 - val_loss: 2.1037e-04 - val_mean_absolute_error: 0.0084 - val_root_mean_squared_error: 0.0145 - learning_rate: 0.0010\n",
            "Epoch 47/100\n",
            "\u001b[1m70/70\u001b[0m \u001b[32m━━━━━━━━━━━━━━━━━━━━\u001b[0m\u001b[37m\u001b[0m \u001b[1m40s\u001b[0m 465ms/step - loss: 4.1198e-04 - mean_absolute_error: 0.0116 - root_mean_squared_error: 0.0203 - val_loss: 2.5297e-04 - val_mean_absolute_error: 0.0092 - val_root_mean_squared_error: 0.0159 - learning_rate: 0.0010\n",
            "Epoch 48/100\n",
            "\u001b[1m70/70\u001b[0m \u001b[32m━━━━━━━━━━━━━━━━━━━━\u001b[0m\u001b[37m\u001b[0m \u001b[1m42s\u001b[0m 475ms/step - loss: 3.6469e-04 - mean_absolute_error: 0.0111 - root_mean_squared_error: 0.0191 - val_loss: 3.1578e-04 - val_mean_absolute_error: 0.0100 - val_root_mean_squared_error: 0.0178 - learning_rate: 0.0010\n",
            "Epoch 49/100\n",
            "\u001b[1m70/70\u001b[0m \u001b[32m━━━━━━━━━━━━━━━━━━━━\u001b[0m\u001b[37m\u001b[0m \u001b[1m41s\u001b[0m 471ms/step - loss: 5.7865e-04 - mean_absolute_error: 0.0133 - root_mean_squared_error: 0.0240 - val_loss: 2.7989e-04 - val_mean_absolute_error: 0.0089 - val_root_mean_squared_error: 0.0167 - learning_rate: 0.0010\n",
            "Epoch 50/100\n",
            "\u001b[1m70/70\u001b[0m \u001b[32m━━━━━━━━━━━━━━━━━━━━\u001b[0m\u001b[37m\u001b[0m \u001b[1m41s\u001b[0m 475ms/step - loss: 3.9361e-04 - mean_absolute_error: 0.0114 - root_mean_squared_error: 0.0198 - val_loss: 1.8551e-04 - val_mean_absolute_error: 0.0077 - val_root_mean_squared_error: 0.0136 - learning_rate: 0.0010\n",
            "Epoch 51/100\n",
            "\u001b[1m70/70\u001b[0m \u001b[32m━━━━━━━━━━━━━━━━━━━━\u001b[0m\u001b[37m\u001b[0m \u001b[1m40s\u001b[0m 469ms/step - loss: 3.1357e-04 - mean_absolute_error: 0.0103 - root_mean_squared_error: 0.0177 - val_loss: 2.2033e-04 - val_mean_absolute_error: 0.0080 - val_root_mean_squared_error: 0.0148 - learning_rate: 0.0010\n",
            "Epoch 52/100\n",
            "\u001b[1m70/70\u001b[0m \u001b[32m━━━━━━━━━━━━━━━━━━━━\u001b[0m\u001b[37m\u001b[0m \u001b[1m41s\u001b[0m 463ms/step - loss: 3.0967e-04 - mean_absolute_error: 0.0102 - root_mean_squared_error: 0.0176 - val_loss: 2.5007e-04 - val_mean_absolute_error: 0.0088 - val_root_mean_squared_error: 0.0158 - learning_rate: 0.0010\n",
            "Epoch 53/100\n",
            "\u001b[1m70/70\u001b[0m \u001b[32m━━━━━━━━━━━━━━━━━━━━\u001b[0m\u001b[37m\u001b[0m \u001b[1m42s\u001b[0m 471ms/step - loss: 3.8870e-04 - mean_absolute_error: 0.0114 - root_mean_squared_error: 0.0197 - val_loss: 3.5980e-04 - val_mean_absolute_error: 0.0122 - val_root_mean_squared_error: 0.0190 - learning_rate: 0.0010\n",
            "Epoch 54/100\n",
            "\u001b[1m70/70\u001b[0m \u001b[32m━━━━━━━━━━━━━━━━━━━━\u001b[0m\u001b[37m\u001b[0m \u001b[1m41s\u001b[0m 472ms/step - loss: 3.1923e-04 - mean_absolute_error: 0.0106 - root_mean_squared_error: 0.0178 - val_loss: 2.0392e-04 - val_mean_absolute_error: 0.0083 - val_root_mean_squared_error: 0.0143 - learning_rate: 0.0010\n",
            "Epoch 55/100\n",
            "\u001b[1m70/70\u001b[0m \u001b[32m━━━━━━━━━━━━━━━━━━━━\u001b[0m\u001b[37m\u001b[0m \u001b[1m41s\u001b[0m 473ms/step - loss: 3.4176e-04 - mean_absolute_error: 0.0108 - root_mean_squared_error: 0.0185 - val_loss: 1.9232e-04 - val_mean_absolute_error: 0.0078 - val_root_mean_squared_error: 0.0139 - learning_rate: 0.0010\n"
          ]
        }
      ]
    },
    {
      "cell_type": "code",
      "source": [
        "# Evaluate the model\n",
        "mae = model.evaluate(x_test, y_test)[1]\n",
        "rmse = model.evaluate(x_test, y_test)[2]\n",
        "print(f\"Validation MAE: {mae}\")\n",
        "print(f\"Validation RMSE: {rmse}\")"
      ],
      "metadata": {
        "colab": {
          "base_uri": "https://localhost:8080/"
        },
        "id": "d2eJKrLyc21m",
        "outputId": "99c66585-1d37-48f2-a10a-6e83050e5d9b"
      },
      "execution_count": 16,
      "outputs": [
        {
          "output_type": "stream",
          "name": "stdout",
          "text": [
            "\u001b[1m16/16\u001b[0m \u001b[32m━━━━━━━━━━━━━━━━━━━━\u001b[0m\u001b[37m\u001b[0m \u001b[1m1s\u001b[0m 89ms/step - loss: 1.4664e-04 - mean_absolute_error: 0.0070 - root_mean_squared_error: 0.0120\n",
            "\u001b[1m16/16\u001b[0m \u001b[32m━━━━━━━━━━━━━━━━━━━━\u001b[0m\u001b[37m\u001b[0m \u001b[1m1s\u001b[0m 88ms/step - loss: 1.4664e-04 - mean_absolute_error: 0.0070 - root_mean_squared_error: 0.0120\n",
            "Validation MAE: 0.0075813825242221355\n",
            "Validation RMSE: 0.013461018912494183\n"
          ]
        }
      ]
    },
    {
      "cell_type": "code",
      "source": [
        "\n",
        "# Plot training & validation Mean Absolute Error values\n",
        "plt.figure(figsize=(7, 6))\n",
        "plt.plot(history.history['mean_absolute_error'], label='Train MAE')\n",
        "plt.plot(history.history['val_mean_absolute_error'], label='Validation MAE')\n",
        "plt.title('C Mean Absolute Error')\n",
        "plt.xlabel('Epoch')\n",
        "plt.ylabel('Mean Absolute Error')\n",
        "plt.legend(loc='upper right')\n",
        "plt.grid(True)\n",
        "plt.savefig('mean_absolute_error.png', dpi=600)  # Save the figure at 600 DPI\n",
        "plt.show()\n",
        "\n",
        "# Plot training & validation Root Mean Squared Error values\n",
        "plt.figure(figsize=(7, 6))\n",
        "plt.plot(history.history['root_mean_squared_error'], label='Train RMSE')\n",
        "plt.plot(history.history['val_root_mean_squared_error'], label='Validation RMSE')\n",
        "plt.title('C Root Mean Squared Error')\n",
        "plt.xlabel('Epoch')\n",
        "plt.ylabel('Root Mean Squared Error')\n",
        "plt.legend(loc='upper right')\n",
        "plt.grid(True)\n",
        "plt.savefig('root_mean_squared_error.png', dpi=600)  # Save the figure at 600 DPI\n",
        "plt.show()"
      ],
      "metadata": {
        "id": "GZk3NykhhI1Z",
        "colab": {
          "base_uri": "https://localhost:8080/",
          "height": 1000
        },
        "outputId": "23595317-416e-4152-d207-26410702f472"
      },
      "execution_count": 19,
      "outputs": [
        {
          "output_type": "display_data",
          "data": {
            "text/plain": [
              "<Figure size 700x600 with 1 Axes>"
            ],
            "image/png": "[encoded data removed]"
          },
          "metadata": {}
        },
        {
          "output_type": "display_data",
          "data": {
            "text/plain": [
              "<Figure size 700x600 with 1 Axes>"
            ],
            "image/png": "[encoded data removed]"
          },
          "metadata": {}
        }
      ]
    },
    {
      "cell_type": "code",
      "source": [],
      "metadata": {
        "id": "8ESRL3zwjTpx"
      },
      "execution_count": null,
      "outputs": []
    }
  ]
}